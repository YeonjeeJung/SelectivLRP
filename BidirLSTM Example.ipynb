{
 "cells": [
  {
   "cell_type": "code",
   "execution_count": 1,
   "metadata": {},
   "outputs": [],
   "source": [
    "import os\n",
    "import numpy as np\n",
    "import matplotlib.pyplot as plt\n",
    "\n",
    "import tensorflow as tf\n",
    "import tensorflow.keras as tfk\n",
    "import tensorflow.keras.layers as tfl\n",
    "import tensorflow.keras.layers as tkl\n",
    "from tensorflow.keras import datasets\n",
    "import tensorflow.keras.models as tkm\n",
    "import tensorflow_datasets as tfds\n",
    "\n",
    "import utils.model_lstm as model\n",
    "from utils.heatmap import html_heatmap\n",
    "from IPython.display import display, HTML\n",
    "\n",
    "os.environ['CUDA_VISIBLE_DEVICES']='1'"
   ]
  },
  {
   "cell_type": "code",
   "execution_count": 2,
   "metadata": {},
   "outputs": [],
   "source": [
    "### Set model and data\n",
    "bidirlstmmodel = model.bidirLSTM()\n",
    "inputs = [\n",
    "    ['do', 'n\\'t', 'waste', 'your', 'money', '.'],\n",
    "    ['choppy', 'editing', 'and', 'too', 'many', 'repetitive', 'scenes', 'spoil', 'what', 'could', 'have', 'been', 'an', 'important', 'documentary', 'about', 'stand-up', 'comedy', '.'],#\n",
    "    ['the', 'master', 'of', 'disaster', '-', 'it', '\\'s', 'a', 'piece', 'of', 'dreck', 'disguised', 'as', 'comedy', '.'],\n",
    "    ['a', 'film', 'so', 'tedious', 'that', 'it', 'is', 'impossible', 'to', 'care', 'whether', 'that', 'boast', 'is', 'true', 'or', 'not', '.'],\n",
    "    ['there', 'is', 'not', 'an', 'ounce', 'of', 'honesty', 'in', 'the', 'entire', 'production', '.'],\n",
    "    ['it', 'never', 'fails', 'to', 'engage', 'us', '.']\n",
    "]\n"
   ]
  },
  {
   "cell_type": "code",
   "execution_count": 3,
   "metadata": {},
   "outputs": [
    {
     "data": {
      "text/html": [
       "<span style=\"background-color:#ffeeee\">do</span> <span style=\"background-color:#ff3636\">n't</span> <span style=\"background-color:#ff0000\">waste</span> <span style=\"background-color:#fffafa\">your</span> <span style=\"background-color:#ff6666\">money</span> <span style=\"background-color:#f3f3ff\">.</span> \n"
      ],
      "text/plain": [
       "<IPython.core.display.HTML object>"
      ]
     },
     "metadata": {},
     "output_type": "display_data"
    },
    {
     "data": {
      "text/html": [
       "<span style=\"background-color:#ff0000\">choppy</span> <span style=\"background-color:#ffbaba\">editing</span> <span style=\"background-color:#e6e6ff\">and</span> <span style=\"background-color:#ffc0c0\">too</span> <span style=\"background-color:#ffdcdc\">many</span> <span style=\"background-color:#ff2020\">repetitive</span> <span style=\"background-color:#ececff\">scenes</span> <span style=\"background-color:#ffbebe\">spoil</span> <span style=\"background-color:#fafaff\">what</span> <span style=\"background-color:#f0f0ff\">could</span> <span style=\"background-color:#fffcfc\">have</span> <span style=\"background-color:#fff0f0\">been</span> <span style=\"background-color:#f3f3ff\">an</span> <span style=\"background-color:#fafaff\">important</span> <span style=\"background-color:#dedeff\">documentary</span> <span style=\"background-color:#fffcfc\">about</span> <span style=\"background-color:#ececff\">stand-up</span> <span style=\"background-color:#ffeaea\">comedy</span> <span style=\"background-color:#fff0f0\">.</span> \n"
      ],
      "text/plain": [
       "<IPython.core.display.HTML object>"
      ]
     },
     "metadata": {},
     "output_type": "display_data"
    },
    {
     "data": {
      "text/html": [
       "<span style=\"background-color:#ffeaea\">the</span> <span style=\"background-color:#b2b2ff\">master</span> <span style=\"background-color:#fff8f8\">of</span> <span style=\"background-color:#ff0000\">disaster</span> <span style=\"background-color:#e0e0ff\">-</span> <span style=\"background-color:#fefeff\">it</span> <span style=\"background-color:#f6f6ff\">'s</span> <span style=\"background-color:#f0f0ff\">a</span> <span style=\"background-color:#d3d3ff\">piece</span> <span style=\"background-color:#f6f6ff\">of</span> <span style=\"background-color:#ff6161\">dreck</span> <span style=\"background-color:#ffa6a6\">disguised</span> <span style=\"background-color:#e2e2ff\">as</span> <span style=\"background-color:#fffafa\">comedy</span> <span style=\"background-color:#fefeff\">.</span> \n"
      ],
      "text/plain": [
       "<IPython.core.display.HTML object>"
      ]
     },
     "metadata": {},
     "output_type": "display_data"
    },
    {
     "data": {
      "text/html": [
       "<span style=\"background-color:#fafaff\">a</span> <span style=\"background-color:#ffe4e4\">film</span> <span style=\"background-color:#ffeeee\">so</span> <span style=\"background-color:#ff0000\">tedious</span> <span style=\"background-color:#f2f2ff\">that</span> <span style=\"background-color:#f8f8ff\">it</span> <span style=\"background-color:#ceceff\">is</span> <span style=\"background-color:#ffd2d2\">impossible</span> <span style=\"background-color:#fffefe\">to</span> <span style=\"background-color:#ff7878\">care</span> <span style=\"background-color:#e0e0ff\">whether</span> <span style=\"background-color:#f8f8ff\">that</span> <span style=\"background-color:#ffe8e8\">boast</span> <span style=\"background-color:#fffafa\">is</span> <span style=\"background-color:#ffc6c6\">true</span> <span style=\"background-color:#e2e2ff\">or</span> <span style=\"background-color:#fff8f8\">not</span> <span style=\"background-color:#f6f6ff\">.</span> \n"
      ],
      "text/plain": [
       "<IPython.core.display.HTML object>"
      ]
     },
     "metadata": {},
     "output_type": "display_data"
    },
    {
     "data": {
      "text/html": [
       "<span style=\"background-color:#ffecec\">there</span> <span style=\"background-color:#dcdcff\">is</span> <span style=\"background-color:#ff0000\">not</span> <span style=\"background-color:#f0f0ff\">an</span> <span style=\"background-color:#ffdede\">ounce</span> <span style=\"background-color:#fff8f8\">of</span> <span style=\"background-color:#ff5656\">honesty</span> <span style=\"background-color:#ccccff\">in</span> <span style=\"background-color:#dedeff\">the</span> <span style=\"background-color:#fff4f4\">entire</span> <span style=\"background-color:#dadaff\">production</span> <span style=\"background-color:#e6e6ff\">.</span> \n"
      ],
      "text/plain": [
       "<IPython.core.display.HTML object>"
      ]
     },
     "metadata": {},
     "output_type": "display_data"
    },
    {
     "data": {
      "text/html": [
       "<span style=\"background-color:#f0f0ff\">it</span> <span style=\"background-color:#ffd2d2\">never</span> <span style=\"background-color:#ff0000\">fails</span> <span style=\"background-color:#e3e3ff\">to</span> <span style=\"background-color:#e0e0ff\">engage</span> <span style=\"background-color:#e8e8ff\">us</span> <span style=\"background-color:#f3f3ff\">.</span> \n"
      ],
      "text/plain": [
       "<IPython.core.display.HTML object>"
      ]
     },
     "metadata": {},
     "output_type": "display_data"
    }
   ],
   "source": [
    "### Show LRP heatmap\n",
    "for input_sentence in inputs:\n",
    "    Rx_Left, Rx_Right, R_rest = bidirlstmmodel.lrp(input_sentence, 0)\n",
    "    R_words = tf.reduce_sum(Rx_Left+Rx_Right, axis=1)\n",
    "    display(HTML(html_heatmap(input_sentence, R_words)))"
   ]
  },
  {
   "cell_type": "code",
   "execution_count": 4,
   "metadata": {},
   "outputs": [
    {
     "data": {
      "text/html": [
       "<span style=\"background-color:#e0e0ff\">do</span> <span style=\"background-color:#ff7c7c\">n't</span> <span style=\"background-color:#ff0000\">waste</span> <span style=\"background-color:#ffeeee\">your</span> <span style=\"background-color:#ff6464\">money</span> <span style=\"background-color:#f8f8ff\">.</span> \n"
      ],
      "text/plain": [
       "<IPython.core.display.HTML object>"
      ]
     },
     "metadata": {},
     "output_type": "display_data"
    },
    {
     "data": {
      "text/html": [
       "<span style=\"background-color:#ff0909\">choppy</span> <span style=\"background-color:#ffb3b3\">editing</span> <span style=\"background-color:#f3f3ff\">and</span> <span style=\"background-color:#ffb0b0\">too</span> <span style=\"background-color:#f2f2ff\">many</span> <span style=\"background-color:#ff0000\">repetitive</span> <span style=\"background-color:#d6d6ff\">scenes</span> <span style=\"background-color:#ffb8b8\">spoil</span> <span style=\"background-color:#fcfcff\">what</span> <span style=\"background-color:#fefeff\">could</span> <span style=\"background-color:#fefeff\">have</span> <span style=\"background-color:#ffeaea\">been</span> <span style=\"background-color:#f2f2ff\">an</span> <span style=\"background-color:#ccccff\">important</span> <span style=\"background-color:#dcdcff\">documentary</span> <span style=\"background-color:#fefeff\">about</span> <span style=\"background-color:#f0f0ff\">stand-up</span> <span style=\"background-color:#eaeaff\">comedy</span> <span style=\"background-color:#f0f0ff\">.</span> \n"
      ],
      "text/plain": [
       "<IPython.core.display.HTML object>"
      ]
     },
     "metadata": {},
     "output_type": "display_data"
    },
    {
     "data": {
      "text/html": [
       "<span style=\"background-color:#fff6f6\">the</span> <span style=\"background-color:#8888ff\">master</span> <span style=\"background-color:#fff4f4\">of</span> <span style=\"background-color:#ff0000\">disaster</span> <span style=\"background-color:#fafaff\">-</span> <span style=\"background-color:#fcfcff\">it</span> <span style=\"background-color:#fefeff\">'s</span> <span style=\"background-color:#fafaff\">a</span> <span style=\"background-color:#dedeff\">piece</span> <span style=\"background-color:#fffafa\">of</span> <span style=\"background-color:#ff6464\">dreck</span> <span style=\"background-color:#ffeaea\">disguised</span> <span style=\"background-color:#fafaff\">as</span> <span style=\"background-color:#f0f0ff\">comedy</span> <span style=\"background-color:#f6f6ff\">.</span> \n"
      ],
      "text/plain": [
       "<IPython.core.display.HTML object>"
      ]
     },
     "metadata": {},
     "output_type": "display_data"
    },
    {
     "data": {
      "text/html": [
       "<span style=\"background-color:#fffefe\">a</span> <span style=\"background-color:#fffefe\">film</span> <span style=\"background-color:#fff6f6\">so</span> <span style=\"background-color:#ff0000\">tedious</span> <span style=\"background-color:#fff8f8\">that</span> <span style=\"background-color:#fefeff\">it</span> <span style=\"background-color:#e8e8ff\">is</span> <span style=\"background-color:#ffacac\">impossible</span> <span style=\"background-color:#fffefe\">to</span> <span style=\"background-color:#ffdede\">care</span> <span style=\"background-color:#fffcfc\">whether</span> <span style=\"background-color:#fffefe\">that</span> <span style=\"background-color:#fff6f6\">boast</span> <span style=\"background-color:#f8f8ff\">is</span> <span style=\"background-color:#f0f0ff\">true</span> <span style=\"background-color:#fff4f4\">or</span> <span style=\"background-color:#ffe4e4\">not</span> <span style=\"background-color:#f8f8ff\">.</span> \n"
      ],
      "text/plain": [
       "<IPython.core.display.HTML object>"
      ]
     },
     "metadata": {},
     "output_type": "display_data"
    },
    {
     "data": {
      "text/html": [
       "<span style=\"background-color:#ffd0d0\">there</span> <span style=\"background-color:#fffefe\">is</span> <span style=\"background-color:#ff0000\">not</span> <span style=\"background-color:#ececff\">an</span> <span style=\"background-color:#ff9292\">ounce</span> <span style=\"background-color:#fff6f6\">of</span> <span style=\"background-color:#cacaff\">honesty</span> <span style=\"background-color:#f0f0ff\">in</span> <span style=\"background-color:#fcfcff\">the</span> <span style=\"background-color:#eeeeff\">entire</span> <span style=\"background-color:#ceceff\">production</span> <span style=\"background-color:#d0d0ff\">.</span> \n"
      ],
      "text/plain": [
       "<IPython.core.display.HTML object>"
      ]
     },
     "metadata": {},
     "output_type": "display_data"
    },
    {
     "data": {
      "text/html": [
       "<span style=\"background-color:#fefeff\">it</span> <span style=\"background-color:#ffecec\">never</span> <span style=\"background-color:#ff0000\">fails</span> <span style=\"background-color:#fffcfc\">to</span> <span style=\"background-color:#cacaff\">engage</span> <span style=\"background-color:#fefeff\">us</span> <span style=\"background-color:#eaeaff\">.</span> \n"
      ],
      "text/plain": [
       "<IPython.core.display.HTML object>"
      ]
     },
     "metadata": {},
     "output_type": "display_data"
    }
   ],
   "source": [
    "### Show SLRP heatmap\n",
    "for input_sentence in inputs:\n",
    "    Rx_Left, Rx_Right, R_rest = bidirlstmmodel.selective_lrp(input_sentence, 0)\n",
    "    R_words = tf.reduce_sum(Rx_Left+Rx_Right, axis=1)\n",
    "    display(HTML(html_heatmap(input_sentence, R_words)))"
   ]
  },
  {
   "cell_type": "code",
   "execution_count": 5,
   "metadata": {},
   "outputs": [
    {
     "data": {
      "text/html": [
       "<span style=\"background-color:#ffe0e0\">do</span> <span style=\"background-color:#ff9090\">n't</span> <span style=\"background-color:#ff9090\">waste</span> <span style=\"background-color:#ffbaba\">your</span> <span style=\"background-color:#ff0000\">money</span> <span style=\"background-color:#ffa3a3\">.</span> \n"
      ],
      "text/plain": [
       "<IPython.core.display.HTML object>"
      ]
     },
     "metadata": {},
     "output_type": "display_data"
    },
    {
     "data": {
      "text/html": [
       "<span style=\"background-color:#ff0000\">choppy</span> <span style=\"background-color:#ffb8b8\">editing</span> <span style=\"background-color:#fffafa\">and</span> <span style=\"background-color:#ff6161\">too</span> <span style=\"background-color:#fff6f6\">many</span> <span style=\"background-color:#ff7171\">repetitive</span> <span style=\"background-color:#fff2f2\">scenes</span> <span style=\"background-color:#ff5656\">spoil</span> <span style=\"background-color:#fffcfc\">what</span> <span style=\"background-color:#ffbaba\">could</span> <span style=\"background-color:#fffafa\">have</span> <span style=\"background-color:#ffa6a6\">been</span> <span style=\"background-color:#ffe6e6\">an</span> <span style=\"background-color:#ff2626\">important</span> <span style=\"background-color:#ffc2c2\">documentary</span> <span style=\"background-color:#ffcece\">about</span> <span style=\"background-color:#ffc3c3\">stand-up</span> <span style=\"background-color:#ff6e6e\">comedy</span> <span style=\"background-color:#ff4e4e\">.</span> \n"
      ],
      "text/plain": [
       "<IPython.core.display.HTML object>"
      ]
     },
     "metadata": {},
     "output_type": "display_data"
    },
    {
     "data": {
      "text/html": [
       "<span style=\"background-color:#fff2f2\">the</span> <span style=\"background-color:#ff4040\">master</span> <span style=\"background-color:#fff8f8\">of</span> <span style=\"background-color:#ffb2b2\">disaster</span> <span style=\"background-color:#ffe2e2\">-</span> <span style=\"background-color:#fffafa\">it</span> <span style=\"background-color:#fffafa\">'s</span> <span style=\"background-color:#fffcfc\">a</span> <span style=\"background-color:#ffe4e4\">piece</span> <span style=\"background-color:#fffcfc\">of</span> <span style=\"background-color:#ffbaba\">dreck</span> <span style=\"background-color:#ff6969\">disguised</span> <span style=\"background-color:#fff6f6\">as</span> <span style=\"background-color:#ff0000\">comedy</span> <span style=\"background-color:#ffdede\">.</span> \n"
      ],
      "text/plain": [
       "<IPython.core.display.HTML object>"
      ]
     },
     "metadata": {},
     "output_type": "display_data"
    },
    {
     "data": {
      "text/html": [
       "<span style=\"background-color:#ffd6d6\">a</span> <span style=\"background-color:#fff4f4\">film</span> <span style=\"background-color:#fff6f6\">so</span> <span style=\"background-color:#ff0000\">tedious</span> <span style=\"background-color:#fffcfc\">that</span> <span style=\"background-color:#ffeeee\">it</span> <span style=\"background-color:#fff4f4\">is</span> <span style=\"background-color:#ffa2a2\">impossible</span> <span style=\"background-color:#fff2f2\">to</span> <span style=\"background-color:#ff7171\">care</span> <span style=\"background-color:#ffc2c2\">whether</span> <span style=\"background-color:#fffcfc\">that</span> <span style=\"background-color:#ff9a9a\">boast</span> <span style=\"background-color:#fff6f6\">is</span> <span style=\"background-color:#ff2424\">true</span> <span style=\"background-color:#fff2f2\">or</span> <span style=\"background-color:#ffe4e4\">not</span> <span style=\"background-color:#ffb8b8\">.</span> \n"
      ],
      "text/plain": [
       "<IPython.core.display.HTML object>"
      ]
     },
     "metadata": {},
     "output_type": "display_data"
    },
    {
     "data": {
      "text/html": [
       "<span style=\"background-color:#fff2f2\">there</span> <span style=\"background-color:#ffe8e8\">is</span> <span style=\"background-color:#ff6969\">not</span> <span style=\"background-color:#fff8f8\">an</span> <span style=\"background-color:#ffd0d0\">ounce</span> <span style=\"background-color:#fffafa\">of</span> <span style=\"background-color:#ffdcdc\">honesty</span> <span style=\"background-color:#ffe0e0\">in</span> <span style=\"background-color:#fffcfc\">the</span> <span style=\"background-color:#ff0000\">entire</span> <span style=\"background-color:#ffcaca\">production</span> <span style=\"background-color:#ffe0e0\">.</span> \n"
      ],
      "text/plain": [
       "<IPython.core.display.HTML object>"
      ]
     },
     "metadata": {},
     "output_type": "display_data"
    },
    {
     "data": {
      "text/html": [
       "<span style=\"background-color:#ffe2e2\">it</span> <span style=\"background-color:#ffdede\">never</span> <span style=\"background-color:#ff9393\">fails</span> <span style=\"background-color:#fff6f6\">to</span> <span style=\"background-color:#ff0000\">engage</span> <span style=\"background-color:#ffc6c6\">us</span> <span style=\"background-color:#ffd2d2\">.</span> \n"
      ],
      "text/plain": [
       "<IPython.core.display.HTML object>"
      ]
     },
     "metadata": {},
     "output_type": "display_data"
    }
   ],
   "source": [
    "### Show SA (backproagation) heatmap\n",
    "for input_sentence in inputs:\n",
    "    Gx, Gx_rev = bidirlstmmodel.sensitivity_analysis(input_sentence, 0)\n",
    "    R_words_SA = (np.linalg.norm(Gx + Gx_rev, ord=2, axis=1)) ** 2\n",
    "    display(HTML(html_heatmap(input_sentence, R_words_SA)))"
   ]
  },
  {
   "cell_type": "code",
   "execution_count": null,
   "metadata": {},
   "outputs": [],
   "source": []
  }
 ],
 "metadata": {
  "kernelspec": {
   "display_name": "myenv",
   "language": "python",
   "name": "myenv"
  },
  "language_info": {
   "codemirror_mode": {
    "name": "ipython",
    "version": 3
   },
   "file_extension": ".py",
   "mimetype": "text/x-python",
   "name": "python",
   "nbconvert_exporter": "python",
   "pygments_lexer": "ipython3",
   "version": "3.6.10"
  }
 },
 "nbformat": 4,
 "nbformat_minor": 4
}
